{
 "cells": [
  {
   "cell_type": "code",
   "execution_count": 5,
   "id": "c0c4fc5a",
   "metadata": {},
   "outputs": [],
   "source": [
    "def partition(array, low, high):\n",
    "    pivot = array[high]\n",
    "    i = low - 1\n",
    "    for j in range(low, high):\n",
    "        if array[j] <= pivot:\n",
    "            i = i + 1\n",
    "            (array[i], array[j]) = (array[j], array[i])\n",
    "\n",
    "    (array[i + 1], array[high]) = (array[high], array[i + 1])\n",
    "\n",
    "    return i + 1"
   ]
  },
  {
   "cell_type": "code",
   "execution_count": 6,
   "id": "498b673b",
   "metadata": {},
   "outputs": [],
   "source": [
    "import random\n",
    "def partition2(array, low, high):\n",
    "    pivot = array[low]\n",
    "    i = low + 1\n",
    "    for j in range(low + 1, high + 1):\n",
    "        if array[j] <= pivot:\n",
    "            array[i], array[j] = array[j], array[i]\n",
    "            i += 1\n",
    "    array[low], array[i - 1] = array[i - 1], array[low]\n",
    "    return i - 1\n",
    "\n",
    "\n",
    "def partition3(array, low, high):\n",
    "    pivot_index = random.randint(low, high)\n",
    "    array[low], array[pivot_index] = array[pivot_index], array[low]\n",
    "    pivot = array[low]\n",
    "    i = low + 1\n",
    "    for j in range(low + 1, high + 1):\n",
    "        if array[j] <= pivot:\n",
    "            array[i], array[j] = array[j], array[i]\n",
    "            i += 1\n",
    "    array[low], array[i - 1] = array[i - 1], array[low]\n",
    "    return i - 1"
   ]
  },
  {
   "cell_type": "code",
   "execution_count": 13,
   "id": "f1ff4c3b",
   "metadata": {},
   "outputs": [],
   "source": [
    "def quickSort(array, low, high):\n",
    "    if low < high:\n",
    "        pi = partition3(array, low, high)\n",
    "        quickSort(array, low, pi - 1)\n",
    "        quickSort(array, pi + 1, high)"
   ]
  },
  {
   "cell_type": "code",
   "execution_count": 14,
   "id": "50e01f68",
   "metadata": {},
   "outputs": [
    {
     "name": "stdout",
     "output_type": "stream",
     "text": [
      "Unsorted Array\n",
      "[8, 12, 23, 6, -4, 62, 32, 28, 16, 42, 36, 40]\n",
      "Sorted Array:\n",
      "[-4, 6, 8, 12, 16, 23, 28, 32, 36, 40, 42, 62]\n"
     ]
    }
   ],
   "source": [
    "data = [8, 12, 23, 6, -4, 62, 32, 28, 16, 42, 36, 40]\n",
    "print(\"Unsorted Array\")\n",
    "print(data)\n",
    "\n",
    "size = len(data)\n",
    "\n",
    "quickSort(data, 0, size - 1)\n",
    "\n",
    "print('Sorted Array:')\n",
    "print(data)"
   ]
  },
  {
   "cell_type": "code",
   "execution_count": null,
   "id": "e18208ee",
   "metadata": {},
   "outputs": [],
   "source": []
  },
  {
   "cell_type": "code",
   "execution_count": null,
   "id": "34caa8c2",
   "metadata": {},
   "outputs": [],
   "source": []
  },
  {
   "cell_type": "code",
   "execution_count": null,
   "id": "747f2828",
   "metadata": {},
   "outputs": [],
   "source": []
  }
 ],
 "metadata": {
  "kernelspec": {
   "display_name": "Python 3 (ipykernel)",
   "language": "python",
   "name": "python3"
  },
  "language_info": {
   "codemirror_mode": {
    "name": "ipython",
    "version": 3
   },
   "file_extension": ".py",
   "mimetype": "text/x-python",
   "name": "python",
   "nbconvert_exporter": "python",
   "pygments_lexer": "ipython3",
   "version": "3.11.5"
  }
 },
 "nbformat": 4,
 "nbformat_minor": 5
}
