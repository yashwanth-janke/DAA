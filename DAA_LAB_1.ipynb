{
 "cells": [
  {
   "cell_type": "markdown",
   "id": "14fb6e0f",
   "metadata": {},
   "source": [
    "# Binary Search Recursive"
   ]
  },
  {
   "cell_type": "code",
   "execution_count": 19,
   "id": "63dca343",
   "metadata": {},
   "outputs": [],
   "source": [
    "def binSearch(arr, l, h, i):\n",
    "    if l<=h:\n",
    "        m = (l+h)//2\n",
    "        if arr[m] == i:\n",
    "            return m\n",
    "        elif arr[m]<i:\n",
    "            return binSearch(arr, m+1, h, i)\n",
    "        else:\n",
    "            return binSearch(arr, l, m-1, i)\n",
    "    return -1"
   ]
  },
  {
   "cell_type": "code",
   "execution_count": 10,
   "id": "a87f140b",
   "metadata": {},
   "outputs": [
    {
     "name": "stdout",
     "output_type": "stream",
     "text": [
      "Enter a number to search: 99\n",
      "element 99 found at 13\n"
     ]
    }
   ],
   "source": [
    "arr = [1,2,3,4,5,9,10,34,56,78,79,82,96,99]\n",
    "i = int(input(\"Enter a number to search: \"))\n",
    "index = binSearch(arr, 0, len(arr)-1, i)\n",
    "if index!=-1:\n",
    "    print(f\"element {i} found at {index}\")\n",
    "else:\n",
    "    print(\"Element doesnot exist in array\")"
   ]
  },
  {
   "cell_type": "markdown",
   "id": "591ce63e",
   "metadata": {},
   "source": [
    "# Binary Seach Iterative"
   ]
  },
  {
   "cell_type": "code",
   "execution_count": 13,
   "id": "9f50a477",
   "metadata": {},
   "outputs": [],
   "source": [
    "def binSearch2(arr, i):\n",
    "    l = 0\n",
    "    h = len(arr)-1\n",
    "    while l<=h:\n",
    "        m = (l+h)//2\n",
    "        if arr[m] == i:\n",
    "            return m\n",
    "        elif arr[m]<i:\n",
    "            l = m+1\n",
    "        else:\n",
    "            h = m-1\n",
    "    return -1"
   ]
  },
  {
   "cell_type": "code",
   "execution_count": 14,
   "id": "29c3177a",
   "metadata": {},
   "outputs": [
    {
     "name": "stdout",
     "output_type": "stream",
     "text": [
      "Enter a number to search: 99\n",
      "element 99 found at 13\n"
     ]
    }
   ],
   "source": [
    "arr = [1,2,3,4,5,9,10,34,56,78,79,82,96,99]\n",
    "i = int(input(\"Enter a number to search: \"))\n",
    "index = binSearch2(arr, i)\n",
    "if index!=-1:\n",
    "    print(f\"element {i} found at {index}\")\n",
    "else:\n",
    "    print(\"Element doesnot exist in array\")"
   ]
  },
  {
   "cell_type": "markdown",
   "id": "3bd576bb",
   "metadata": {},
   "source": [
    "# Linear Search"
   ]
  },
  {
   "cell_type": "code",
   "execution_count": 15,
   "id": "647cbd8c",
   "metadata": {},
   "outputs": [],
   "source": [
    "def linSearch(arr, x):\n",
    "    for i in range(len(arr)):\n",
    "        if arr[i]==x:\n",
    "            return i\n",
    "    else:\n",
    "        return -1"
   ]
  },
  {
   "cell_type": "code",
   "execution_count": 16,
   "id": "80464117",
   "metadata": {},
   "outputs": [
    {
     "name": "stdout",
     "output_type": "stream",
     "text": [
      "Enter a number to search: 99\n",
      "element 99 found at 13\n"
     ]
    }
   ],
   "source": [
    "arr = [1,2,3,4,5,9,10,34,56,78,79,82,96,99]\n",
    "i = int(input(\"Enter a number to search: \"))\n",
    "index = linSearch(arr, i)\n",
    "if index!=-1:\n",
    "    print(f\"element {i} found at {index}\")\n",
    "else:\n",
    "    print(\"Element doesnot exist in array\")"
   ]
  },
  {
   "cell_type": "markdown",
   "id": "89f41629",
   "metadata": {},
   "source": [
    "# BubbleSort"
   ]
  },
  {
   "cell_type": "code",
   "execution_count": 17,
   "id": "831e0f8a",
   "metadata": {},
   "outputs": [],
   "source": [
    "def bubbleSort(arr):\n",
    "    n = len(arr)\n",
    "    for i in range(n-1):\n",
    "        for j in range(n-i-1):\n",
    "            if arr[j]>arr[j+1]:\n",
    "                arr[j], arr[j+1] = arr[j+1], arr[j]\n"
   ]
  },
  {
   "cell_type": "code",
   "execution_count": 18,
   "id": "b790f366",
   "metadata": {},
   "outputs": [
    {
     "data": {
      "text/plain": [
       "[1, 2, 2, 3, 3, 3, 4, 4, 5, 5, 6, 7, 7, 8, 8, 9, 34, 43, 87, 654, 2432]"
      ]
     },
     "execution_count": 18,
     "metadata": {},
     "output_type": "execute_result"
    }
   ],
   "source": [
    "arr = [1,3,5,7,3,2,4,6,8,654,7,8,34,43,5,87,9,4,3,2,2432,]\n",
    "bubbleSort(arr)\n",
    "arr"
   ]
  },
  {
   "cell_type": "markdown",
   "id": "eb1e9797",
   "metadata": {},
   "source": [
    "# SelectionSort"
   ]
  },
  {
   "cell_type": "code",
   "execution_count": 3,
   "id": "395291d5",
   "metadata": {},
   "outputs": [],
   "source": [
    "def selectionSort(arr):\n",
    "    n = len(arr)\n",
    "    for i in range(n-1):\n",
    "        minIndex = i\n",
    "        for j in range(i+1, n):\n",
    "            if arr[j]<arr[minIndex]:\n",
    "                minIndex = j\n",
    "        arr[minIndex], arr[i] = arr[i], arr[minIndex]"
   ]
  },
  {
   "cell_type": "code",
   "execution_count": 4,
   "id": "1227d579",
   "metadata": {},
   "outputs": [
    {
     "data": {
      "text/plain": [
       "[1, 2, 2, 3, 3, 3, 4, 4, 5, 5, 6, 7, 7, 8, 8, 9, 34, 43, 87, 654, 2432]"
      ]
     },
     "execution_count": 4,
     "metadata": {},
     "output_type": "execute_result"
    }
   ],
   "source": [
    "arr = [1,3,5,7,3,2,4,6,8,654,7,8,34,43,5,87,9,4,3,2,2432,]\n",
    "selectionSort(arr)\n",
    "arr"
   ]
  },
  {
   "cell_type": "code",
   "execution_count": null,
   "id": "fef21cde",
   "metadata": {},
   "outputs": [],
   "source": []
  }
 ],
 "metadata": {
  "kernelspec": {
   "display_name": "Python 3 (ipykernel)",
   "language": "python",
   "name": "python3"
  },
  "language_info": {
   "codemirror_mode": {
    "name": "ipython",
    "version": 3
   },
   "file_extension": ".py",
   "mimetype": "text/x-python",
   "name": "python",
   "nbconvert_exporter": "python",
   "pygments_lexer": "ipython3",
   "version": "3.11.5"
  }
 },
 "nbformat": 4,
 "nbformat_minor": 5
}
