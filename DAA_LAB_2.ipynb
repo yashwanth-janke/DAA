{
 "cells": [
  {
   "cell_type": "markdown",
   "id": "e7275311",
   "metadata": {},
   "source": [
    "# Insertion Sort"
   ]
  },
  {
   "cell_type": "code",
   "execution_count": 18,
   "id": "b7fcb2da",
   "metadata": {},
   "outputs": [
    {
     "data": {
      "text/plain": [
       "[1, 2, 2, 3, 3, 3, 4, 4, 5, 5, 6, 7, 7, 8, 8, 9, 34, 43, 87, 654, 2432]"
      ]
     },
     "execution_count": 18,
     "metadata": {},
     "output_type": "execute_result"
    }
   ],
   "source": [
    "def insertionSort(arr):\n",
    "    for i in range(1, len(arr)):\n",
    "        x=arr[i]\n",
    "        j=i-1\n",
    "        \n",
    "        while j>=0 and x<arr[j]:\n",
    "            arr[j+1]=arr[j]\n",
    "            j=j-1\n",
    "        arr[j+1]=x\n",
    "arr = [1,3,5,7,3,2,4,6,8,654,7,8,34,43,5,87,9,4,3,2,2432]\n",
    "insertionSort(arr)\n",
    "arr"
   ]
  },
  {
   "cell_type": "markdown",
   "id": "082dd123",
   "metadata": {},
   "source": [
    "# Merge Sort"
   ]
  },
  {
   "cell_type": "code",
   "execution_count": 2,
   "id": "80310ad8",
   "metadata": {},
   "outputs": [
    {
     "data": {
      "text/plain": [
       "[1, 2, 2, 3, 3, 3, 4, 4, 5, 5, 6, 7, 7, 8, 8, 9, 34, 43, 87, 654, 2432]"
      ]
     },
     "execution_count": 2,
     "metadata": {},
     "output_type": "execute_result"
    }
   ],
   "source": [
    "def mergesort(arr):\n",
    "    if len(arr)>1:\n",
    "        m=len(arr)//2\n",
    "        \n",
    "        L=arr[:m]\n",
    "        R=arr[m:]\n",
    "        \n",
    "        mergesort(L)\n",
    "        mergesort(R)\n",
    "        i=j=k=0\n",
    "        while i<len(L) and j<len(R):\n",
    "            if L[i]<R[j]:\n",
    "                arr[k]=L[i]\n",
    "                i+=1\n",
    "            else:\n",
    "                arr[k]=R[j]\n",
    "                j+=1\n",
    "            k+=1\n",
    "        \n",
    "        while i<len(L):\n",
    "            arr[k]=L[i]\n",
    "            i+=1\n",
    "            k+=1\n",
    "        while j<len(R):\n",
    "            arr[k]=R[j]\n",
    "            j+=1\n",
    "            k+=1\n",
    "arr = [1,3,5,7,3,2,4,6,8,654,7,8,34,43,5,87,9,4,3,2,2432]\n",
    "mergesort(arr)\n",
    "arr"
   ]
  },
  {
   "cell_type": "markdown",
   "id": "2c092750",
   "metadata": {},
   "source": [
    "# Functions Task"
   ]
  },
  {
   "cell_type": "markdown",
   "id": "7c8c231c",
   "metadata": {},
   "source": [
    "\n"
   ]
  },
  {
   "cell_type": "code",
   "execution_count": 22,
   "id": "0addeaec",
   "metadata": {},
   "outputs": [],
   "source": [
    "def f(x):\n",
    "    return 2*x if x<10 else x**2"
   ]
  },
  {
   "cell_type": "code",
   "execution_count": 23,
   "id": "c24c6f01",
   "metadata": {},
   "outputs": [],
   "source": [
    "def fact(i):\n",
    "    if i<=1:\n",
    "        return 1\n",
    "    else:\n",
    "        return i*fact(i-1)"
   ]
  },
  {
   "cell_type": "code",
   "execution_count": 24,
   "id": "a96a89cf",
   "metadata": {},
   "outputs": [],
   "source": [
    "def sin(x):\n",
    "    n=int(input(\"Enter value of n: \"))\n",
    "    sum = 0\n",
    "    for i in range(n):\n",
    "        t = x**(2*i + 1) / fact(i)\n",
    "        if i%2==0:\n",
    "            sum += t\n",
    "        else:\n",
    "            sum -= t\n",
    "            \n",
    "    print(sum)"
   ]
  },
  {
   "cell_type": "code",
   "execution_count": 25,
   "id": "3ba27371",
   "metadata": {},
   "outputs": [
    {
     "data": {
      "text/plain": [
       "144"
      ]
     },
     "execution_count": 25,
     "metadata": {},
     "output_type": "execute_result"
    }
   ],
   "source": [
    "f(12)"
   ]
  },
  {
   "cell_type": "code",
   "execution_count": 26,
   "id": "4f286dff",
   "metadata": {},
   "outputs": [
    {
     "data": {
      "text/plain": [
       "18"
      ]
     },
     "execution_count": 26,
     "metadata": {},
     "output_type": "execute_result"
    }
   ],
   "source": [
    "f(9)"
   ]
  },
  {
   "cell_type": "code",
   "execution_count": 27,
   "id": "86ed7cf4",
   "metadata": {},
   "outputs": [
    {
     "name": "stdout",
     "output_type": "stream",
     "text": [
      "Enter value of n: 10\n",
      "0.3678791887125221\n"
     ]
    }
   ],
   "source": [
    "sin(1)"
   ]
  },
  {
   "cell_type": "code",
   "execution_count": null,
   "id": "d89be428",
   "metadata": {},
   "outputs": [],
   "source": []
  }
 ],
 "metadata": {
  "kernelspec": {
   "display_name": "Python 3 (ipykernel)",
   "language": "python",
   "name": "python3"
  },
  "language_info": {
   "codemirror_mode": {
    "name": "ipython",
    "version": 3
   },
   "file_extension": ".py",
   "mimetype": "text/x-python",
   "name": "python",
   "nbconvert_exporter": "python",
   "pygments_lexer": "ipython3",
   "version": "3.11.5"
  }
 },
 "nbformat": 4,
 "nbformat_minor": 5
}
